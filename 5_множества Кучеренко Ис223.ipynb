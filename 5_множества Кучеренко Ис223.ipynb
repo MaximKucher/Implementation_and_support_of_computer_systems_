{
  "cells": [
    {
      "cell_type": "markdown",
      "id": "76f99f91",
      "metadata": {
        "id": "76f99f91"
      },
      "source": [
        "# Множества"
      ]
    },
    {
      "cell_type": "markdown",
      "id": "4b437b3f",
      "metadata": {
        "id": "4b437b3f"
      },
      "source": [
        "## Объекты типа set"
      ]
    },
    {
      "cell_type": "markdown",
      "id": "406078a2",
      "metadata": {
        "id": "406078a2"
      },
      "source": [
        "Мы написали уже много программ, работающих с данными, количество которых неизвестно на момент написания программы. Теперь было бы здорово уметь хранить в памяти неизвестное на момент написания программы количество данных. В этом нам помогут так называемые **коллекции** — специальные типы данных, которые умеют хранить несколько значений под одним именем. Первая из коллекций, с которой мы познакомимся, называется **множество**."
      ]
    },
    {
      "cell_type": "markdown",
      "id": "e3a0402f",
      "metadata": {
        "id": "e3a0402f"
      },
      "source": [
        "> ### Множество\n",
        "Множество — составной тип данных, представляющий собой несколько значений (элементов множества) под одним именем. Этот тип называется set, не создавайте, пожалуйста, переменные с таким именем! Чтобы задать множество, нужно в фигурных скобках перечислить его элементы."
      ]
    },
    {
      "cell_type": "markdown",
      "id": "5faa02f3",
      "metadata": {
        "id": "5faa02f3"
      },
      "source": [
        "Здесь создается множество из четырех элементов (названий млекопитающих), которое затем выводится на экран:"
      ]
    },
    {
      "cell_type": "code",
      "execution_count": null,
      "id": "c0102794",
      "metadata": {
        "id": "c0102794"
      },
      "outputs": [],
      "source": [
        "mammals = {'cat', 'dog', 'fox', 'elephant'}\n",
        "print(mammals)"
      ]
    },
    {
      "cell_type": "markdown",
      "id": "19f24ec6",
      "metadata": {
        "id": "19f24ec6"
      },
      "source": [
        "Введите этот код в Python и запустите программу несколько раз. Скорее всего, вы увидите разный порядок перечисления млекопитающих, так происходит потому, что элементы в множестве Python не упорядочены. Это позволяет быстро выполнять операции над множествами, о которых мы скоро поговорим."
      ]
    },
    {
      "cell_type": "markdown",
      "id": "34f054af",
      "metadata": {
        "id": "34f054af"
      },
      "source": [
        "> ### Создание множества\n",
        "  Для создания пустых множеств обязательно вызывать функцию set:\n"
      ]
    },
    {
      "cell_type": "code",
      "execution_count": null,
      "id": "e96875d1",
      "metadata": {
        "id": "e96875d1"
      },
      "outputs": [],
      "source": [
        "empty = set()\n",
        "print(empty)"
      ]
    },
    {
      "cell_type": "markdown",
      "id": "c532cdc1",
      "metadata": {
        "id": "c532cdc1"
      },
      "source": [
        "Обратите внимание: элементами множества могут быть строки или числа. Возникает вопрос: а может ли множество содержать и строки, и числа? Давайте попробуем:"
      ]
    },
    {
      "cell_type": "code",
      "execution_count": null,
      "id": "00b51e18",
      "metadata": {
        "id": "00b51e18"
      },
      "outputs": [],
      "source": [
        "mammals_and_numbers = {'cat', 5, 'dog', 3, 'fox', 12, 'elephant', 4}\n",
        "print(mammals_and_numbers)"
      ]
    },
    {
      "cell_type": "markdown",
      "id": "fac532d6",
      "metadata": {
        "id": "fac532d6"
      },
      "source": [
        "Как видим, множество может содержать и строки, и числа, а Python опять выводит элементы множества в случайном порядке. Заметьте, если поставить в программе оператор вывода множества на экран несколько раз, не изменяя само множество, порядок вывода элементов не изменится.\n",
        "\n",
        "Может ли элемент входить в множество несколько раз? Это было бы странно, так как совершенно непонятно, как отличить один элемент от другого. Нет смысла хранить несколько одинаковых объектов, удобно иметь контейнер, сохраняющий только уникальные объекты. Поэтому множество содержит каждый элемент только один раз. Следующий фрагмент кода это демонстрирует:"
      ]
    },
    {
      "cell_type": "code",
      "execution_count": null,
      "id": "3f85fb0e",
      "metadata": {
        "id": "3f85fb0e"
      },
      "outputs": [],
      "source": [
        "birds = {'raven', 'sparrow', 'sparrow', 'dove', 'hawk', 'falcon'}\n",
        "print(birds)"
      ]
    },
    {
      "cell_type": "markdown",
      "id": "c0f131cb",
      "metadata": {
        "id": "c0f131cb"
      },
      "source": [
        "> ### Важно!\n",
        "> Итак, у множеств есть три ключевые особенности:\n",
        "> - Порядок элементов в множестве не определен\n",
        "> - Элементы множеств — строки и/или числа\n",
        "> - Множество не может содержать одинаковых элементов\n",
        "\n"
      ]
    },
    {
      "cell_type": "markdown",
      "id": "fc29cf6f",
      "metadata": {
        "id": "fc29cf6f"
      },
      "source": [
        "Выполнение этих трех свойств позволяет организовать элементы множества в структуру со сложными взаимосвязями, благодаря которым можно быстро проверять наличие элементов в множестве, объединять множества и т. д. Но пока давайте обсудим ограничения."
      ]
    },
    {
      "cell_type": "markdown",
      "id": "68843b13",
      "metadata": {
        "id": "68843b13"
      },
      "source": [
        "## Операции над множеством"
      ]
    },
    {
      "cell_type": "markdown",
      "id": "bdf34f27",
      "metadata": {
        "id": "bdf34f27"
      },
      "source": [
        "Простейшая операция — вычисление числа элементов множества. Для этого служит функция len. Мы уже встречались с этой функцией раньше, когда определяли длину строки:"
      ]
    },
    {
      "cell_type": "code",
      "execution_count": null,
      "id": "2b2ffab7",
      "metadata": {
        "id": "2b2ffab7"
      },
      "outputs": [],
      "source": [
        "my_set = {'a', 'b', 'c'}\n",
        "n = len(my_set)  # => 3"
      ]
    },
    {
      "cell_type": "markdown",
      "id": "f2ff8b63",
      "metadata": {
        "id": "f2ff8b63"
      },
      "source": [
        "Далее можно вывести элементы множества с помощью функции print:"
      ]
    },
    {
      "cell_type": "code",
      "execution_count": null,
      "id": "1f3212a4",
      "metadata": {
        "id": "1f3212a4"
      },
      "outputs": [],
      "source": [
        "my_set = {'a', 'b', 'c'}\n",
        "print(my_set) # => {'b', 'c', 'a'}"
      ]
    },
    {
      "cell_type": "markdown",
      "id": "99fff72a",
      "metadata": {
        "id": "99fff72a"
      },
      "source": [
        "В вашем случае порядок может отличаться, так как правило упорядочивания элементов в множестве выбирается случайным образом при запуске интерпретатора Python.\n",
        "\n",
        "Очень часто необходимо обойти все элементы множества в цикле. Для этого используется цикл for и оператор in, с помощью которых можно перебрать не только все элементы диапазона (как мы это делали раньше, используя range), но и элементы множества:"
      ]
    },
    {
      "cell_type": "code",
      "execution_count": null,
      "id": "b6f3e066",
      "metadata": {
        "id": "b6f3e066"
      },
      "outputs": [],
      "source": [
        "my_set = {'a', 'b', 'c'}\n",
        "for elem in my_set:\n",
        "    print(elem)"
      ]
    },
    {
      "cell_type": "markdown",
      "id": "0a0bfb39",
      "metadata": {
        "id": "0a0bfb39"
      },
      "source": [
        "такой код выводит:\n",
        "\n",
        "b\n",
        "\n",
        "a\n",
        "\n",
        "c"
      ]
    },
    {
      "cell_type": "markdown",
      "id": "f84e3bb8",
      "metadata": {
        "id": "f84e3bb8"
      },
      "source": [
        "Однако, как и в прошлый раз, в вашем случае порядок может отличаться: заранее он неизвестен. Код для работы с множествами нужно писать таким образом, чтобы он правильно работал при любом порядке обхода. Для этого надо знать два правила:\n",
        "\n",
        "- Если мы не изменяли множество, порядок обхода элементов тоже не изменится\n",
        "- После изменения множества порядок элементов может измениться произвольным образом\n",
        "\n",
        "Чтобы проверить наличие элемента в множестве, можно воспользоваться уже знакомым оператором in:"
      ]
    },
    {
      "cell_type": "code",
      "execution_count": null,
      "id": "385fb7af",
      "metadata": {
        "id": "385fb7af"
      },
      "outputs": [],
      "source": [
        "if elem in my_set:\n",
        "    print('Элемент есть в множестве')\n",
        "else:\n",
        "    print('Элемента нет в множестве')"
      ]
    },
    {
      "cell_type": "markdown",
      "id": "191ea452",
      "metadata": {
        "id": "191ea452"
      },
      "source": [
        "Выражение **elem in my_set** возвращает True, если элемент есть в множестве, и False, если его нет. Интересно, что эта операция для множеств в Python выполняется за время, не зависящее от мощности множества (количества его элементов).\n",
        "\n",
        "Добавление элемента в множество делается при помощи **add**:"
      ]
    },
    {
      "cell_type": "code",
      "execution_count": null,
      "id": "4317f472",
      "metadata": {
        "id": "4317f472"
      },
      "outputs": [],
      "source": [
        "new_elem = 'e'\n",
        "my_set.add(new_elem)"
      ]
    },
    {
      "cell_type": "markdown",
      "id": "87ca3e74",
      "metadata": {
        "id": "87ca3e74"
      },
      "source": [
        "add — что-то вроде функции, «приклеенной» к конкретному множеству. Такие «приклеенные функции» называются методами.\n",
        "\n",
        "Таким образом, если в коде присутствует имя множества, затем точка и еще одно название со скобками, второе название — имя метода. Если элемент, равный new_elem, уже существует в множестве, оно не изменится, поскольку не может содержать одинаковых элементов. Ошибки при этом не произойдет. Небольшой пример:"
      ]
    },
    {
      "cell_type": "code",
      "execution_count": null,
      "id": "4c5bcc01",
      "metadata": {
        "id": "4c5bcc01"
      },
      "outputs": [],
      "source": [
        "my_set = set()\n",
        "my_set.add('a')\n",
        "my_set.add('b')\n",
        "my_set.add('a')\n",
        "print(my_set)"
      ]
    },
    {
      "cell_type": "markdown",
      "id": "067dd0b1",
      "metadata": {
        "id": "067dd0b1"
      },
      "source": [
        "Данный код три раза вызовет метод add, «приклеенный» к множеству my_set, а затем выведет либо {'a', 'b'}, либо {'b', 'a'}.\n",
        "\n",
        "С удалением элемента сложнее. Для этого есть сразу три метода: discard (удалить заданный элемент, если он есть в множестве, и ничего не делать, если его нет), remove (удалить заданный элемент, если он есть, и породить ошибку KeyError, если нет) и pop. Метод pop удаляет некоторый элемент из множества и возвращает его как результат. Порядок удаления при этом неизвестен."
      ]
    },
    {
      "cell_type": "code",
      "execution_count": null,
      "id": "c3c7e74a",
      "metadata": {
        "id": "c3c7e74a"
      },
      "outputs": [],
      "source": [
        "my_set = {'a', 'b', 'c'}\n",
        "\n",
        "my_set.discard('a')         # Удалён\n",
        "my_set.discard('hello')     # Не удалён, ошибки нет\n",
        "my_set.remove('b')          # Удалён\n",
        "print(my_set)               # В множестве остался один элемент 'c'\n",
        "my_set.remove('world')      # Не удалён, ошибка KeyError"
      ]
    },
    {
      "cell_type": "markdown",
      "id": "73783b48",
      "metadata": {
        "id": "73783b48"
      },
      "source": [
        "На первый взгляд, странно, что есть метод remove, который увеличивает количество падений вашей программы. Однако если вы на 100 % уверены, что элемент должен быть в множестве, то лучше получить ошибку во время отладки и исправить ее, чем тратить время на поиски при неправильной работе программы.\n",
        "\n",
        "Метод pop удаляет из множества случайный элемент и возвращает его значение:"
      ]
    },
    {
      "cell_type": "code",
      "execution_count": null,
      "id": "289fd3e4",
      "metadata": {
        "id": "289fd3e4"
      },
      "outputs": [],
      "source": [
        "my_set = {'a', 'b', 'c'}\n",
        "print('до удаления:', my_set)\n",
        "elem = my_set.pop()\n",
        "print('удалённый элемент:', elem)\n",
        "print('после удаления:', my_set)"
      ]
    },
    {
      "cell_type": "markdown",
      "id": "b8615a13",
      "metadata": {
        "id": "b8615a13"
      },
      "source": [
        "Результат работы случаен, например, такой код может вывести следующее:"
      ]
    },
    {
      "cell_type": "markdown",
      "id": "b77e6e8b",
      "metadata": {
        "id": "b77e6e8b"
      },
      "source": [
        "> до удаления: {'b', 'a', 'c'}\n",
        "\n",
        "> удалённый элемент: b\n",
        "\n",
        "> после удаления: {'a', 'c'}"
      ]
    },
    {
      "cell_type": "markdown",
      "id": "e2d567cf",
      "metadata": {
        "id": "e2d567cf"
      },
      "source": [
        "Если попытаться применить pop к пустому множеству, произойдет ошибка KeyError.\n",
        "\n",
        "Очистить множество от всех элементов можно методом clear:"
      ]
    },
    {
      "cell_type": "code",
      "execution_count": null,
      "id": "bf3c917c",
      "metadata": {
        "id": "bf3c917c"
      },
      "outputs": [],
      "source": [
        "my_set.clear()\n",
        "print(my_set)"
      ]
    },
    {
      "cell_type": "markdown",
      "id": "a4a28ad6",
      "metadata": {
        "id": "a4a28ad6"
      },
      "source": [
        "## Операции над двумя множествами"
      ]
    },
    {
      "cell_type": "code",
      "execution_count": null,
      "id": "ab2ae7c7",
      "metadata": {
        "id": "ab2ae7c7"
      },
      "outputs": [],
      "source": [
        "my_set1 = {'морковь', 'картошка', 'помидоры', 'лук'}\n",
        "my_set2 = {'морковь', 'редис', 'капуста', 'лук'}"
      ]
    },
    {
      "cell_type": "markdown",
      "id": "9e305277",
      "metadata": {
        "id": "9e305277"
      },
      "source": [
        "Есть четыре операции, которые из двух множеств делают новое множество: объединение, пересечение, разность и симметричная разность."
      ]
    },
    {
      "cell_type": "markdown",
      "id": "6c35fc7e",
      "metadata": {
        "id": "6c35fc7e"
      },
      "source": [
        "![title](img/set-union.svg)"
      ]
    },
    {
      "cell_type": "markdown",
      "id": "62c79430",
      "metadata": {
        "id": "62c79430"
      },
      "source": [
        "Объединение двух множеств включает в себя все элементы, которые есть хотя бы в одном из них. Для этой операции существует метод union:"
      ]
    },
    {
      "cell_type": "code",
      "execution_count": null,
      "id": "d674220c",
      "metadata": {
        "id": "d674220c"
      },
      "outputs": [],
      "source": [
        "union = my_set1.union(my_set2)\n",
        "print(union)"
      ]
    },
    {
      "cell_type": "markdown",
      "id": "61d99bde",
      "metadata": {
        "id": "61d99bde"
      },
      "source": [
        "Или можно использовать оператор |:"
      ]
    },
    {
      "cell_type": "code",
      "execution_count": null,
      "id": "8a270651",
      "metadata": {
        "id": "8a270651"
      },
      "outputs": [],
      "source": [
        "union = my_set1 | my_set2\n",
        "union"
      ]
    },
    {
      "cell_type": "markdown",
      "id": "d3e1701a",
      "metadata": {
        "id": "d3e1701a"
      },
      "source": [
        "![title](img/set-intersection.svg)"
      ]
    },
    {
      "cell_type": "markdown",
      "id": "e9d516f5",
      "metadata": {
        "id": "e9d516f5"
      },
      "source": [
        "Пересечение двух множеств включает в себя все элементы, которые есть в обоих множествах:"
      ]
    },
    {
      "cell_type": "code",
      "execution_count": null,
      "id": "93725345",
      "metadata": {
        "id": "93725345"
      },
      "outputs": [],
      "source": [
        "intersection = my_set1.intersection(my_set2)\n",
        "intersection"
      ]
    },
    {
      "cell_type": "markdown",
      "id": "ffd54679",
      "metadata": {
        "id": "ffd54679"
      },
      "source": [
        "Или аналог:"
      ]
    },
    {
      "cell_type": "code",
      "execution_count": null,
      "id": "584a54f8",
      "metadata": {
        "id": "584a54f8"
      },
      "outputs": [],
      "source": [
        "intersection = my_set1 & my_set2\n",
        "intersection"
      ]
    },
    {
      "cell_type": "markdown",
      "id": "88f9984c",
      "metadata": {
        "id": "88f9984c"
      },
      "source": [
        "![title](img/set-difference.svg)"
      ]
    },
    {
      "cell_type": "markdown",
      "id": "4971915e",
      "metadata": {
        "id": "4971915e"
      },
      "source": [
        "Разность двух множеств включает в себя все элементы, которые есть в первом множестве, но которых нет во втором:"
      ]
    },
    {
      "cell_type": "code",
      "execution_count": null,
      "id": "8e85fe25",
      "metadata": {
        "id": "8e85fe25"
      },
      "outputs": [],
      "source": [
        "diff = my_set1.difference(my_set2)\n",
        "diff"
      ]
    },
    {
      "cell_type": "markdown",
      "id": "0d64c0a8",
      "metadata": {
        "id": "0d64c0a8"
      },
      "source": [
        "Или аналог:"
      ]
    },
    {
      "cell_type": "code",
      "execution_count": null,
      "id": "90e15643",
      "metadata": {
        "id": "90e15643"
      },
      "outputs": [],
      "source": [
        "diff = my_set1 - my_set2\n",
        "diff"
      ]
    },
    {
      "cell_type": "markdown",
      "id": "76cdd682",
      "metadata": {
        "id": "76cdd682"
      },
      "source": [
        "![title](img/set-symmetric_difference.svg)"
      ]
    },
    {
      "cell_type": "markdown",
      "id": "b0d50cf6",
      "metadata": {
        "id": "b0d50cf6"
      },
      "source": [
        "Симметричная разность двух множеств включает в себя все элементы, которые есть только в одном из этих множеств:"
      ]
    },
    {
      "cell_type": "code",
      "execution_count": null,
      "id": "96fc4dfa",
      "metadata": {
        "id": "96fc4dfa"
      },
      "outputs": [],
      "source": [
        "symm_diff = my_set1.symmetric_difference(my_set2)"
      ]
    },
    {
      "cell_type": "markdown",
      "id": "afb3f042",
      "metadata": {
        "id": "afb3f042"
      },
      "source": [
        "Или аналогичный вариант:"
      ]
    },
    {
      "cell_type": "code",
      "execution_count": null,
      "id": "3a5398bd",
      "metadata": {
        "id": "3a5398bd"
      },
      "outputs": [],
      "source": [
        "symm_diff = my_set1 ^ my_set2"
      ]
    },
    {
      "cell_type": "markdown",
      "id": "47368e91",
      "metadata": {
        "id": "47368e91"
      },
      "source": [
        "Люди часто путают обозначения | и &, поэтому рекомендуется вместо них писать s1.union(s2) и s1.intersection(s2). Операции − и ^ перепутать сложнее, их можно записывать прямо так."
      ]
    },
    {
      "cell_type": "code",
      "execution_count": null,
      "id": "2a091e6f",
      "metadata": {
        "id": "2a091e6f"
      },
      "outputs": [],
      "source": [
        "s1 = {'a', 'b', 'c'}\n",
        "s2 = {'a', 'c', 'd'}\n",
        "union = s1.union(s2)                # {'a', 'b', 'c', 'd'}\n",
        "intersection = s1.intersection(s2)  # {'a', 'c'}\n",
        "diff = s1 - s2                      # {'b'}\n",
        "symm_diff = s1 ^ s2                 # {'b', 'd'}"
      ]
    },
    {
      "cell_type": "markdown",
      "id": "44422593",
      "metadata": {
        "id": "44422593"
      },
      "source": [
        "## Сравнение множеств"
      ]
    },
    {
      "cell_type": "markdown",
      "id": "5dbcba69",
      "metadata": {
        "id": "5dbcba69"
      },
      "source": [
        "Все операторы сравнения множеств, а именно: ==, <, >, <=, >=, возвращают True, если сравнение истинно, и False — в противном случае."
      ]
    },
    {
      "cell_type": "markdown",
      "id": "c4f7e5f3",
      "metadata": {
        "id": "c4f7e5f3"
      },
      "source": [
        "> ### Равенство и неравенство множеств\n",
        "Множества считаются равными, если они содержат одинаковые наборы элементов. Равенство множеств, как в случае с числами и строками, обозначается оператором ==.\n",
        "Неравенство множеств обозначается оператором !=. Он работает противоположно оператору ==.\n"
      ]
    },
    {
      "cell_type": "code",
      "execution_count": 4,
      "id": "7dd40215",
      "metadata": {
        "colab": {
          "base_uri": "https://localhost:8080/"
        },
        "id": "7dd40215",
        "outputId": "803f7763-bd7b-42c3-aff9-9d4634e157a8"
      },
      "outputs": [
        {
          "output_type": "error",
          "ename": "NameError",
          "evalue": "name 'set1' is not defined",
          "traceback": [
            "\u001b[0;31m---------------------------------------------------------------------------\u001b[0m",
            "\u001b[0;31mNameError\u001b[0m                                 Traceback (most recent call last)",
            "\u001b[0;32m<ipython-input-4-2aa668c64e04>\u001b[0m in \u001b[0;36m<cell line: 0>\u001b[0;34m()\u001b[0m\n\u001b[0;32m----> 1\u001b[0;31m \u001b[0;32mif\u001b[0m \u001b[0mset1\u001b[0m \u001b[0;34m==\u001b[0m \u001b[0mset2\u001b[0m\u001b[0;34m:\u001b[0m\u001b[0;34m\u001b[0m\u001b[0;34m\u001b[0m\u001b[0m\n\u001b[0m\u001b[1;32m      2\u001b[0m     \u001b[0mprint\u001b[0m\u001b[0;34m(\u001b[0m\u001b[0;34m'Множества равны'\u001b[0m\u001b[0;34m)\u001b[0m\u001b[0;34m\u001b[0m\u001b[0;34m\u001b[0m\u001b[0m\n\u001b[1;32m      3\u001b[0m \u001b[0;32melse\u001b[0m\u001b[0;34m:\u001b[0m\u001b[0;34m\u001b[0m\u001b[0;34m\u001b[0m\u001b[0m\n\u001b[1;32m      4\u001b[0m     \u001b[0mprint\u001b[0m\u001b[0;34m(\u001b[0m\u001b[0;34m'Множества не равны'\u001b[0m\u001b[0;34m)\u001b[0m\u001b[0;34m\u001b[0m\u001b[0;34m\u001b[0m\u001b[0m\n",
            "\u001b[0;31mNameError\u001b[0m: name 'set1' is not defined"
          ]
        }
      ],
      "source": [
        "if set1 == set2:\n",
        "    print('Множества равны')\n",
        "else:\n",
        "    print('Множества не равны')"
      ]
    },
    {
      "cell_type": "markdown",
      "id": "b6a5b3ea",
      "metadata": {
        "id": "b6a5b3ea"
      },
      "source": [
        "Обратите внимание на то, что у двух равных множеств могут быть разные порядки обхода, например, из-за того, что элементы в каждое из них добавлялись в разном порядке.\n",
        "\n",
        "Теперь перейдем к операторам <=, >=. Они означают «является подмножеством» и «является надмножеством»."
      ]
    },
    {
      "cell_type": "markdown",
      "id": "fc2c0142",
      "metadata": {
        "id": "fc2c0142"
      },
      "source": [
        "> ### Подмножество и надмножество\n",
        "Подмножество — некоторая выборка элементов множества, которая может быть как меньше множества, так и совпадать с ним, на что указывают символы «<» и «=» в операторе <=. Наоборот, надмножество включает все элементы некоторого множества и, возможно, какие-то еще.\n"
      ]
    },
    {
      "cell_type": "code",
      "execution_count": null,
      "id": "acdf8958",
      "metadata": {
        "id": "acdf8958"
      },
      "outputs": [],
      "source": [
        "s1 = {'a', 'b', 'c'}\n",
        "print(s1 <= s1)  # True\n",
        "\n",
        "s2 = {'a', 'b'}\n",
        "print(s2 <= s1)  # True\n",
        "s3 = {'a'}\n",
        "print(s3 <= s1)  # True\n",
        "s4 = {'a', 'z'}\n",
        "print(s4 <= s1)  # False"
      ]
    },
    {
      "cell_type": "markdown",
      "id": "3718de1b",
      "metadata": {
        "id": "3718de1b"
      },
      "source": [
        "Операция s1 < s2 означает «s1 является подмножеством s2, но целиком не совпадает с ним». Операция s1 > s2 означает «s1 является надмножеством s2, но целиком не совпадает с ним»."
      ]
    },
    {
      "cell_type": "markdown",
      "id": "dc9cc398",
      "metadata": {
        "id": "dc9cc398"
      },
      "source": [
        "## Упражнения"
      ]
    },
    {
      "cell_type": "markdown",
      "id": "745ea81d",
      "metadata": {
        "id": "745ea81d"
      },
      "source": [
        "### Упражнение 1"
      ]
    },
    {
      "cell_type": "markdown",
      "id": "23bf3131",
      "metadata": {
        "id": "23bf3131"
      },
      "source": [
        "Аня и Наташа играют в города. Они очень любят эту игру, знают много городов и к концу игры забывают, какие уже называли. На вас возложена почётная задача вести запись игры и напоминать девочкам, если какой-то город уже был назван.\n",
        "#### Формат ввода\n",
        "\n",
        "В первой строке записано число названных городов N. Затем идут N строк с названиями городов и ещё одна строка с новым только что названым городом.\n",
        "#### Формат вывода\n",
        "\n",
        "Слово OK, если такого города ещё не было названо, и TRY ANOTHER, если город уже был назван.\n"
      ]
    },
    {
      "cell_type": "markdown",
      "id": "5329d09b",
      "metadata": {
        "id": "5329d09b"
      },
      "source": [
        "![title](img/ex1.png)"
      ]
    },
    {
      "cell_type": "code",
      "execution_count": 6,
      "id": "a48a57f6",
      "metadata": {
        "colab": {
          "base_uri": "https://localhost:8080/"
        },
        "id": "a48a57f6",
        "outputId": "80d61adc-3af6-41fb-bfd5-5c093ed0e62e"
      },
      "outputs": [
        {
          "output_type": "stream",
          "name": "stdout",
          "text": [
            "Введите количество названных городов: 1\n",
            "Нью-Йорк\n",
            "Нью-Йорк\n",
            "TRY ANOTHER\n"
          ]
        }
      ],
      "source": [
        "# Чтение количества названных городов\n",
        "N = int(input(\"Введите количество названных городов: \"))\n",
        "\n",
        "# Создание множества для хранения названных городов\n",
        "cities = set()\n",
        "\n",
        "# Чтение названных городов и добавление их в множество\n",
        "for _ in range(N):\n",
        "    city = input().strip()\n",
        "    cities.add(city)\n",
        "\n",
        "# Чтение нового города\n",
        "new_city = input().strip()\n",
        "\n",
        "# Проверка, был ли город назван ранее\n",
        "if new_city in cities:\n",
        "    print(\"TRY ANOTHER\")\n",
        "else:\n",
        "    print(\"OK\")\n"
      ]
    },
    {
      "cell_type": "markdown",
      "id": "ff80493f",
      "metadata": {
        "id": "ff80493f"
      },
      "source": [
        "### Упражнение 2"
      ]
    },
    {
      "cell_type": "markdown",
      "id": "ca8661e2",
      "metadata": {
        "id": "ca8661e2"
      },
      "source": [
        "\n",
        "\n",
        "Каждый ученик в классе изучает либо английский, либо немецкий, либо оба этих языка.\n",
        "У классного руководителя есть списки учеников, изучающих каждый из языков. Напишите программу, которая позволит классному руководителю быстро выяснить, сколько учеников изучает только один язык.\n",
        "#### Формат ввода\n",
        "\n",
        "В первых двух строках указывается количество учеников, изучающих английский и немецкий языки (M и N). Затем идут M строк — фамилии учеников, которые изучают английский язык; и N строк с фамилиями учеников, изучающих немецкий. Гарантируется, что среди учеников нет однофамильцев.\n",
        "#### Формат вывода\n",
        "\n",
        "Количество учеников, которые изучают только один язык. Если таких не окажется, в строке вывода нужно написать NO.\n",
        "\n"
      ]
    },
    {
      "cell_type": "markdown",
      "id": "83fc09e3",
      "metadata": {
        "id": "83fc09e3"
      },
      "source": [
        "![title](img/ex2.png)"
      ]
    },
    {
      "cell_type": "code",
      "execution_count": 10,
      "id": "bf757c31",
      "metadata": {
        "colab": {
          "base_uri": "https://localhost:8080/"
        },
        "id": "bf757c31",
        "outputId": "0eb5c1bb-80d9-438f-a8eb-f00656bef0ee"
      },
      "outputs": [
        {
          "output_type": "stream",
          "name": "stdout",
          "text": [
            "Введите количество учеников, изучающих английский язык: 3\n",
            "Введите количество учеников, изучающих немецкий язык: 2\n",
            "Пертов\n",
            "Сидоров\n",
            "Соколов\n",
            "Шмидт\n",
            "Гитлер\n",
            "5\n",
            "Соколов\n",
            "Сидоров\n",
            "Пертов\n",
            "Шмидт\n",
            "Гитлер\n"
          ]
        }
      ],
      "source": [
        "# Чтение количества учеников, изучающих английский и немецкий языки\n",
        "M = int(input(\"Введите количество учеников, изучающих английский язык: \"))\n",
        "N = int(input(\"Введите количество учеников, изучающих немецкий язык: \"))\n",
        "\n",
        "# Создание множеств для хранения фамилий учеников\n",
        "english_students = set()\n",
        "german_students = set()\n",
        "\n",
        "# Чтение фамилий учеников, изучающих английский язык\n",
        "for _ in range(M):\n",
        "    english_students.add(input().strip())\n",
        "\n",
        "# Чтение фамилий учеников, изучающих немецкий язык\n",
        "for _ in range(N):\n",
        "    german_students.add(input().strip())\n",
        "\n",
        "# Находим студентов, изучающих только один язык\n",
        "only_english = english_students - german_students  # Студенты, изучающие только английский\n",
        "only_german = german_students - english_students   # Студенты, изучающие только немецкий\n",
        "\n",
        "# Формируем список для вывода\n",
        "result = list(only_english) + list(only_german)\n",
        "\n",
        "# Вывод результата\n",
        "if result:\n",
        "    print(len(result))\n",
        "    for name in result:\n",
        "        print(name)\n",
        "else:\n",
        "    print(\"NO\")\n"
      ]
    },
    {
      "cell_type": "markdown",
      "id": "68a8e928",
      "metadata": {
        "id": "68a8e928"
      },
      "source": [
        "### Упражнение 3"
      ]
    },
    {
      "cell_type": "markdown",
      "id": "97e03381",
      "metadata": {
        "id": "97e03381"
      },
      "source": [
        "\n",
        "\n",
        "Марина пригласила гостей и хочет поразить их своим кулинарным мастерством. На магазин времени не осталось, поэтому ей придётся обойтись продуктами, которые уже есть в холодильнике. В кулинарной книге Марины для каждого рецепта записаны необходимые ингредиенты. Определите, какие рецепты Марина может приготовить. Считайте, что если продукт есть в холодильнике, то его достаточно для приготовления любого блюда по любому рецепту.\n",
        "#### Формат ввода\n",
        "\n",
        "В первой строчке указано число продуктов в холодильнике M. Далее идут M строчек с названиями продуктов. После этого — строчка с числом рецептов N. Далее — N блоков, описывающие каждый из рецептов. Блок начинается со строчки с названием рецепта, затем, на следующей строке - количество ингредиентов в нём. Далее идут названия ингредиентов. Названия каждого ингредиента и рецепта состоят из одного слова.\n",
        "#### Формат вывода\n",
        "\n",
        "Названия рецептов, которые можно приготовить из продуктов в холодильнике, в порядке их появления во входном файле.\n",
        "\n"
      ]
    },
    {
      "cell_type": "markdown",
      "id": "972d31fc",
      "metadata": {
        "id": "972d31fc"
      },
      "source": [
        "![title](img/ex3.png)"
      ]
    },
    {
      "cell_type": "code",
      "execution_count": 3,
      "id": "e0c6763d",
      "metadata": {
        "colab": {
          "base_uri": "https://localhost:8080/"
        },
        "id": "e0c6763d",
        "outputId": "ead16594-3fac-44f1-81c5-2d3799df26e3"
      },
      "outputs": [
        {
          "output_type": "stream",
          "name": "stdout",
          "text": [
            "Введите количество продуктов в холодильнике: 2\n",
            "Молоко\n",
            "Сахар\n",
            "Введите количество рецептов: 3\n",
            "Сгущёнка\n",
            "2\n",
            "Молоко\n",
            "Сахар\n",
            "Чай с молоком\n",
            "3\n",
            "Чай\n",
            "Молоко\n",
            "Сахар\n",
            "Шаурма\n",
            "5\n",
            "Салат\n",
            "Мясо\n",
            "Соус для Шаурмы\n",
            "Лаваш\n",
            "Вай как ВКУСНО\n",
            "Вывод:\n",
            "Сгущёнка\n"
          ]
        }
      ],
      "source": [
        "# Чтение количества продуктов в холодильнике\n",
        "M = int(input(\"Введите количество продуктов в холодильнике: \"))\n",
        "# Создание множества для хранения продуктов\n",
        "fridge_products = set()\n",
        "for _ in range(M):\n",
        "    fridge_products.add(input().strip())\n",
        "\n",
        "# Чтение количества рецептов\n",
        "N = int(input(\"Введите количество рецептов: \"))\n",
        "# Список для хранения названий рецептов, которые можно приготовить\n",
        "possible_recipes = []\n",
        "\n",
        "# Обработка каждого рецепта\n",
        "for _ in range(N):\n",
        "    recipe_name = input().strip()  # Название рецепта\n",
        "    ingredient_count = int(input().strip())  # Количество ингредиентов\n",
        "    ingredients = [input().strip() for _ in range(ingredient_count)]  # Список ингредиентов\n",
        "\n",
        "    # Проверка, можно ли приготовить рецепт\n",
        "    if all(ingredient in fridge_products for ingredient in ingredients):\n",
        "        possible_recipes.append(recipe_name)\n",
        "\n",
        "# Вывод возможных рецептов\n",
        "if possible_recipes:\n",
        "    print(\"Вывод:\")\n",
        "    for recipe in possible_recipes:\n",
        "        print(recipe)\n",
        "else:\n",
        "    print(\"Нет доступных рецептов.\")\n"
      ]
    },
    {
      "cell_type": "code",
      "execution_count": 3,
      "id": "85a37a67",
      "metadata": {
        "id": "85a37a67"
      },
      "outputs": [],
      "source": []
    },
    {
      "cell_type": "code",
      "execution_count": 3,
      "id": "29fc23e8",
      "metadata": {
        "id": "29fc23e8"
      },
      "outputs": [],
      "source": []
    },
    {
      "cell_type": "code",
      "execution_count": 3,
      "id": "57ccf8dd",
      "metadata": {
        "id": "57ccf8dd"
      },
      "outputs": [],
      "source": []
    },
    {
      "cell_type": "code",
      "execution_count": 3,
      "id": "fcbfb214",
      "metadata": {
        "id": "fcbfb214"
      },
      "outputs": [],
      "source": []
    },
    {
      "cell_type": "code",
      "execution_count": 3,
      "id": "6b653584",
      "metadata": {
        "id": "6b653584"
      },
      "outputs": [],
      "source": []
    },
    {
      "cell_type": "code",
      "execution_count": 3,
      "id": "492483c2",
      "metadata": {
        "id": "492483c2"
      },
      "outputs": [],
      "source": []
    },
    {
      "cell_type": "code",
      "execution_count": 3,
      "id": "1fe57ee8",
      "metadata": {
        "id": "1fe57ee8"
      },
      "outputs": [],
      "source": []
    },
    {
      "cell_type": "code",
      "execution_count": 3,
      "id": "aa946caa",
      "metadata": {
        "id": "aa946caa"
      },
      "outputs": [],
      "source": []
    }
  ],
  "metadata": {
    "kernelspec": {
      "display_name": "Python 3 (ipykernel)",
      "language": "python",
      "name": "python3"
    },
    "language_info": {
      "codemirror_mode": {
        "name": "ipython",
        "version": 3
      },
      "file_extension": ".py",
      "mimetype": "text/x-python",
      "name": "python",
      "nbconvert_exporter": "python",
      "pygments_lexer": "ipython3",
      "version": "3.9.13"
    },
    "colab": {
      "provenance": []
    }
  },
  "nbformat": 4,
  "nbformat_minor": 5
}